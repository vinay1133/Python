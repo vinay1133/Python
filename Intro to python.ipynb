{
 "cells": [
  {
   "cell_type": "code",
   "execution_count": 1,
   "id": "196b1f8a",
   "metadata": {},
   "outputs": [
    {
     "name": "stdout",
     "output_type": "stream",
     "text": [
      "Hello World\n"
     ]
    }
   ],
   "source": [
    "print(\"Hello World\")"
   ]
  },
  {
   "cell_type": "code",
   "execution_count": 2,
   "id": "105f420a",
   "metadata": {},
   "outputs": [
    {
     "name": "stdout",
     "output_type": "stream",
     "text": [
      "Vinay Bhojwani\n"
     ]
    }
   ],
   "source": [
    "print(\"Vinay Bhojwani\")"
   ]
  },
  {
   "cell_type": "code",
   "execution_count": 3,
   "id": "e872a36d",
   "metadata": {},
   "outputs": [
    {
     "ename": "NameError",
     "evalue": "name 'Print' is not defined",
     "output_type": "error",
     "traceback": [
      "\u001b[1;31m---------------------------------------------------------------------------\u001b[0m",
      "\u001b[1;31mNameError\u001b[0m                                 Traceback (most recent call last)",
      "\u001b[1;32m~\\AppData\\Local\\Temp\\ipykernel_20088\\320528285.py\u001b[0m in \u001b[0;36m<module>\u001b[1;34m\u001b[0m\n\u001b[1;32m----> 1\u001b[1;33m \u001b[0mPrint\u001b[0m\u001b[1;33m(\u001b[0m\u001b[1;34m\"Hello World\"\u001b[0m\u001b[1;33m)\u001b[0m\u001b[1;33m\u001b[0m\u001b[1;33m\u001b[0m\u001b[0m\n\u001b[0m",
      "\u001b[1;31mNameError\u001b[0m: name 'Print' is not defined"
     ]
    }
   ],
   "source": [
    "Print(\"Hello World\")"
   ]
  },
  {
   "cell_type": "markdown",
   "id": "88f234be",
   "metadata": {},
   "source": [
    "### Python is case-sensitive"
   ]
  },
  {
   "cell_type": "markdown",
   "id": "5a47d994",
   "metadata": {},
   "source": [
    "#### Python"
   ]
  },
  {
   "cell_type": "markdown",
   "id": "b8f87b13",
   "metadata": {},
   "source": [
    "##### Python"
   ]
  },
  {
   "cell_type": "markdown",
   "id": "3a90f46e",
   "metadata": {},
   "source": [
    "## Python"
   ]
  },
  {
   "cell_type": "code",
   "execution_count": 6,
   "id": "6d5b7448",
   "metadata": {},
   "outputs": [
    {
     "ename": "NameError",
     "evalue": "name 'Vinay' is not defined",
     "output_type": "error",
     "traceback": [
      "\u001b[1;31m---------------------------------------------------------------------------\u001b[0m",
      "\u001b[1;31mNameError\u001b[0m                                 Traceback (most recent call last)",
      "\u001b[1;32m~\\AppData\\Local\\Temp\\ipykernel_20088\\1918597266.py\u001b[0m in \u001b[0;36m<module>\u001b[1;34m\u001b[0m\n\u001b[1;32m----> 1\u001b[1;33m \u001b[0mprint\u001b[0m\u001b[1;33m(\u001b[0m\u001b[0mVinay\u001b[0m\u001b[1;33m)\u001b[0m\u001b[1;33m\u001b[0m\u001b[1;33m\u001b[0m\u001b[0m\n\u001b[0m",
      "\u001b[1;31mNameError\u001b[0m: name 'Vinay' is not defined"
     ]
    }
   ],
   "source": [
    "print(Vinay)"
   ]
  },
  {
   "cell_type": "code",
   "execution_count": 7,
   "id": "c8487719",
   "metadata": {},
   "outputs": [
    {
     "name": "stdout",
     "output_type": "stream",
     "text": [
      "10\n"
     ]
    }
   ],
   "source": [
    "print(10)"
   ]
  },
  {
   "cell_type": "markdown",
   "id": "4e8257ee",
   "metadata": {},
   "source": [
    "### String (text) should be in inverted commas"
   ]
  },
  {
   "cell_type": "code",
   "execution_count": 8,
   "id": "d495cece",
   "metadata": {},
   "outputs": [
    {
     "name": "stdout",
     "output_type": "stream",
     "text": [
      "10\n"
     ]
    }
   ],
   "source": [
    "print(\"10\")"
   ]
  },
  {
   "cell_type": "markdown",
   "id": "723c694b",
   "metadata": {},
   "source": [
    "### Shortcut keys"
   ]
  },
  {
   "cell_type": "code",
   "execution_count": 9,
   "id": "a0035712",
   "metadata": {},
   "outputs": [],
   "source": [
    "### Run->Shift+Enter\n",
    "### CellAbove-> a\n",
    "### CellBelow-> b\n",
    "### DeleteCell-> x/dd"
   ]
  },
  {
   "cell_type": "markdown",
   "id": "1c678624",
   "metadata": {},
   "source": [
    "### Datatypes"
   ]
  },
  {
   "cell_type": "code",
   "execution_count": 11,
   "id": "2c622dc4",
   "metadata": {},
   "outputs": [
    {
     "data": {
      "text/plain": [
       "int"
      ]
     },
     "execution_count": 11,
     "metadata": {},
     "output_type": "execute_result"
    }
   ],
   "source": [
    "x=10\n",
    "type(x)"
   ]
  },
  {
   "cell_type": "code",
   "execution_count": 12,
   "id": "337b95ce",
   "metadata": {},
   "outputs": [
    {
     "data": {
      "text/plain": [
       "float"
      ]
     },
     "execution_count": 12,
     "metadata": {},
     "output_type": "execute_result"
    }
   ],
   "source": [
    "x=10.5\n",
    "type(x)"
   ]
  },
  {
   "cell_type": "code",
   "execution_count": 13,
   "id": "f0f9d16f",
   "metadata": {},
   "outputs": [
    {
     "data": {
      "text/plain": [
       "str"
      ]
     },
     "execution_count": 13,
     "metadata": {},
     "output_type": "execute_result"
    }
   ],
   "source": [
    "x='Data Science'\n",
    "type(x)"
   ]
  },
  {
   "cell_type": "markdown",
   "id": "ae8f94ca",
   "metadata": {},
   "source": [
    "### Variables"
   ]
  },
  {
   "cell_type": "code",
   "execution_count": 15,
   "id": "a2eab09c",
   "metadata": {},
   "outputs": [
    {
     "data": {
      "text/plain": [
       "('VB', 'RB', 'HB')"
      ]
     },
     "execution_count": 15,
     "metadata": {},
     "output_type": "execute_result"
    }
   ],
   "source": [
    "coursenames='VB','RB','HB'\n",
    "coursenames"
   ]
  },
  {
   "cell_type": "code",
   "execution_count": 16,
   "id": "bc4ff571",
   "metadata": {},
   "outputs": [
    {
     "ename": "SyntaxError",
     "evalue": "invalid syntax (1090951617.py, line 1)",
     "output_type": "error",
     "traceback": [
      "\u001b[1;36m  File \u001b[1;32m\"C:\\Users\\Vinay Bhojwani\\AppData\\Local\\Temp\\ipykernel_20088\\1090951617.py\"\u001b[1;36m, line \u001b[1;32m1\u001b[0m\n\u001b[1;33m    course names='VB','RB','HB'\u001b[0m\n\u001b[1;37m           ^\u001b[0m\n\u001b[1;31mSyntaxError\u001b[0m\u001b[1;31m:\u001b[0m invalid syntax\n"
     ]
    }
   ],
   "source": [
    "course names='VB','RB','HB'\n",
    "course names"
   ]
  },
  {
   "cell_type": "code",
   "execution_count": 17,
   "id": "7dbdba94",
   "metadata": {},
   "outputs": [],
   "source": [
    "### Space is not allowed\n",
    "### The only allowed spl char is underscore\n",
    "### Variables should not start with a number\n",
    "### It should start with a-z or A-Z or underscore"
   ]
  }
 ],
 "metadata": {
  "kernelspec": {
   "display_name": "Python 3 (ipykernel)",
   "language": "python",
   "name": "python3"
  },
  "language_info": {
   "codemirror_mode": {
    "name": "ipython",
    "version": 3
   },
   "file_extension": ".py",
   "mimetype": "text/x-python",
   "name": "python",
   "nbconvert_exporter": "python",
   "pygments_lexer": "ipython3",
   "version": "3.9.13"
  }
 },
 "nbformat": 4,
 "nbformat_minor": 5
}
